{
 "cells": [
  {
   "cell_type": "markdown",
   "id": "d1390138",
   "metadata": {},
   "source": [
    "# Wolfram"
   ]
  },
  {
   "cell_type": "code",
   "execution_count": 3,
   "id": "e379bdc2",
   "metadata": {},
   "outputs": [
    {
     "ename": "name$::shdw",
     "evalue": "Symbol name$ appears in multiple contexts {FFmpegTools`Common`Private`, WolframLanguageForJupyter`}; definitions in context FFmpegTools`Common`Private` may shadow or be shadowed by other definitions.",
     "output_type": "error",
     "traceback": [
      "\u001b[0;31mname$::shdw: Symbol name$ appears in multiple contexts {FFmpegTools`Common`Private`, WolframLanguageForJupyter`}; definitions in context FFmpegTools`Common`Private` may shadow or be shadowed by other definitions.\u001b[0m"
     ]
    },
    {
     "ename": "General::sysffmpeg",
     "evalue": "Using a limited version of FFmpeg. Install FFmpeg to get more complete codec support.",
     "output_type": "error",
     "traceback": [
      "\u001b[0;31mGeneral::sysffmpeg: Using a limited version of FFmpeg. Install FFmpeg to get more complete codec support.\u001b[0m"
     ]
    },
    {
     "data": {
      "text/html": [
       "<div><pre style=\"&#102;&#111;&#110;&#116;&#45;&#102;&#97;&#109;&#105;&#108;&#121;&#58;&#32;&#34;&#67;&#111;&#117;&#114;&#105;&#101;&#114;&#32;&#78;&#101;&#119;&#34;&#44;&#67;&#111;&#117;&#114;&#105;&#101;&#114;&#44;&#109;&#111;&#110;&#111;&#115;&#112;&#97;&#99;&#101;&#59;\">&#119;&#46;&#109;&#112;&#52;</pre></div>"
      ],
      "text/plain": [
       "w.mp4"
      ]
     },
     "execution_count": 3,
     "metadata": {
      "text/html": [],
      "text/plain": []
     },
     "output_type": "execute_result"
    }
   ],
   "source": [
    "Export[\"w.mp4\",Manipulate[Plot[a*x^2+x,{x,-100,100}],{a,0,10}]]"
   ]
  },
  {
   "cell_type": "code",
   "execution_count": null,
   "id": "32e1aa92",
   "metadata": {},
   "outputs": [],
   "source": []
  }
 ],
 "metadata": {
  "kernelspec": {
   "display_name": "Wolfram Language 13",
   "language": "Wolfram Language",
   "name": "wolframlanguage13"
  },
  "language_info": {
   "codemirror_mode": "mathematica",
   "file_extension": ".m",
   "mimetype": "application/vnd.wolfram.m",
   "name": "Wolfram Language",
   "pygments_lexer": "mathematica",
   "version": "12.0"
  }
 },
 "nbformat": 4,
 "nbformat_minor": 5
}
